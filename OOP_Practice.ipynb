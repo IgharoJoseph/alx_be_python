{
 "cells": [
  {
   "cell_type": "code",
   "execution_count": 1,
   "id": "b0efb439",
   "metadata": {},
   "outputs": [],
   "source": [
    "class Car:\n",
    "    def __init__(self, make, model, year):\n",
    "        self.make = make\n",
    "        self.model = model\n",
    "        self.year = year\n",
    "        self.odometer_reading = 0  # Default attribute value\n",
    "\n",
    "    def get_descriptive_name(self):\n",
    "        full_name = f\"{self.year} {self.make} {self.model}\"\n",
    "        return full_name\n",
    "\n",
    "    def read_odometer(self):\n",
    "        print(f\"This car has {self.odometer_reading} miles on it.\")\n",
    "\n",
    "    def update_odometer(self, mileage):\n",
    "        if mileage >= self.odometer_reading:\n",
    "            self.odometer_reading = mileage\n",
    "        else:\n",
    "            print(\"You can't roll back an odometer!\")\n",
    "\n",
    "    def increment_odometer(self, miles):\n",
    "           self.odometer_reading += miles"
   ]
  },
  {
   "cell_type": "code",
   "execution_count": 4,
   "id": "29d0df45",
   "metadata": {},
   "outputs": [
    {
     "name": "stdout",
     "output_type": "stream",
     "text": [
      "2020 Toyota Camry\n",
      "This car has 0 miles on it.\n",
      "This car has 100 miles on it.\n",
      "This car has 150 miles on it.\n"
     ]
    }
   ],
   "source": [
    "my_car = Car(\"Toyota\", \"Camry\", 2020)\n",
    "print(my_car.get_descriptive_name())  # Output: 2020 Toyota Camry\n",
    "\n",
    "my_car.read_odometer()  # Output: This car has 0 miles on it.\n",
    "my_car.update_odometer(100)  # Update odometer reading\n",
    "my_car.read_odometer()  # Output: This car has 100 miles on it.\n",
    "\n",
    "my_car.increment_odometer(50)  # Increment odometer reading\n",
    "my_car.read_odometer()  # Output: This car has 150 miles on it.\n"
   ]
  },
  {
   "cell_type": "code",
   "execution_count": 6,
   "id": "20114106",
   "metadata": {},
   "outputs": [
    {
     "name": "stdout",
     "output_type": "stream",
     "text": [
      "Fatima is 15 years old\n"
     ]
    }
   ],
   "source": [
    "class Student:\n",
    "    def __init__(self, name, age):\n",
    "        self.name = name\n",
    "        self.age = age\n",
    "\n",
    "    def student_info(self):\n",
    "        print(f\"{self.name} is {self.age} years old\")\n",
    "\n",
    "School_student = Student(\"Fatima\", 15)\n",
    "School_student.student_info()"
   ]
  },
  {
   "cell_type": "code",
   "execution_count": 15,
   "id": "f351669c",
   "metadata": {},
   "outputs": [
    {
     "name": "stdout",
     "output_type": "stream",
     "text": [
      "Clipper is available on the shelf and is 20000 naira\n",
      "Cornflake is available on the shelf and is 2000 naira\n",
      "We have 300000 worth of Clippers in stock\n",
      "We have 14000 worth of Cornflakes in stock\n"
     ]
    }
   ],
   "source": [
    "class product:\n",
    "    def __init__(self, name, price, quantity):\n",
    "        self.name = name\n",
    "        self.price = price\n",
    "        self.quantity = quantity\n",
    "\n",
    "    def product_info(self):\n",
    "        print(f\"{self.name} is available on the shelf and is {self.price} naira\")\n",
    "\n",
    "    def total_value(self):\n",
    "        return self.price * self.quantity\n",
    "    \n",
    "    def report(self):\n",
    "        print(f\"We have {self.total_value()} worth of {self.name}s in stock\")\n",
    "\n",
    "\n",
    "Product1 = product(\"Clipper\", 20000, 15)\n",
    "Product2 = product(\"Cornflake\", 2000, 7)\n",
    "\n",
    "\n",
    "Product1.product_info()\n",
    "Product2.product_info()\n",
    "\n",
    "Product1.report()\n",
    "Product2.report()\n"
   ]
  },
  {
   "cell_type": "code",
   "execution_count": 20,
   "id": "fcbf3801",
   "metadata": {},
   "outputs": [
    {
     "name": "stdout",
     "output_type": "stream",
     "text": [
      "Purchase successful: 3 apple(s)\n",
      "Sorry, the item 'orange' is out of stock.\n",
      "7\n"
     ]
    }
   ],
   "source": [
    "# Sample Product Inventory\n",
    "product_inventory = {\n",
    "    \"apple\": 10,\n",
    "    \"banana\": 5,\n",
    "    \"orange\": 0,  # Out of stock\n",
    "    \"grapes\": 3\n",
    "}\n",
    "\n",
    "class OutOfStockError(Exception):\n",
    "    \"\"\"Custom exception for handling out-of-stock items.\"\"\"\n",
    "\n",
    "    def __init__(self, item_name):\n",
    "        self.item_name = item_name\n",
    "\n",
    "    def __str__(self):\n",
    "        return f\"Sorry, the item '{self.item_name}' is out of stock.\"\n",
    "\n",
    "\n",
    "def purchase_item(item, quantity):\n",
    "    try:\n",
    "        if product_inventory[item] == 0:\n",
    "            raise OutOfStockError(item)\n",
    "        else:\n",
    "            print(f\"Purchase successful: {quantity} {item}(s)\")\n",
    "            product_inventory[item] -= quantity\n",
    "    except KeyError:\n",
    "        print(f\"Sorry, '{item}' is not available in our inventory.\")\n",
    "\n",
    "# Testing the Custom Exception\n",
    "try:\n",
    "    purchase_item(\"apple\", 3)  # Purchase successful\n",
    "    purchase_item(\"orange\", 1)  # Raises OutOfStockError\n",
    "    purchase_item(\"watermelon\", 1)  # Item not available\n",
    "except OutOfStockError as e:\n",
    "    print(e)  # Output:\n",
    "\n",
    "print(product_inventory['apple'])"
   ]
  }
 ],
 "metadata": {
  "kernelspec": {
   "display_name": "base",
   "language": "python",
   "name": "python3"
  },
  "language_info": {
   "codemirror_mode": {
    "name": "ipython",
    "version": 3
   },
   "file_extension": ".py",
   "mimetype": "text/x-python",
   "name": "python",
   "nbconvert_exporter": "python",
   "pygments_lexer": "ipython3",
   "version": "3.13.5"
  }
 },
 "nbformat": 4,
 "nbformat_minor": 5
}
